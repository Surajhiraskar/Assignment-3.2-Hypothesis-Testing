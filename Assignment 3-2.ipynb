{
 "cells": [
  {
   "cell_type": "markdown",
   "id": "206bacef",
   "metadata": {},
   "source": [
    "# Hypothesis Testing - Buyer ratio data"
   ]
  },
  {
   "cell_type": "code",
   "execution_count": 1,
   "id": "44dc346e",
   "metadata": {},
   "outputs": [],
   "source": [
    "Ho = 'All proportions are equal'\n",
    "Ha = 'Not all proportions are equal'"
   ]
  },
  {
   "cell_type": "code",
   "execution_count": 24,
   "id": "ea25a7f5",
   "metadata": {},
   "outputs": [],
   "source": [
    "import pandas as pd\n",
    "import numpy as np\n",
    "from scipy import stats"
   ]
  },
  {
   "cell_type": "code",
   "execution_count": 21,
   "id": "ac1112a3",
   "metadata": {},
   "outputs": [
    {
     "data": {
      "text/html": [
       "<div>\n",
       "<style scoped>\n",
       "    .dataframe tbody tr th:only-of-type {\n",
       "        vertical-align: middle;\n",
       "    }\n",
       "\n",
       "    .dataframe tbody tr th {\n",
       "        vertical-align: top;\n",
       "    }\n",
       "\n",
       "    .dataframe thead th {\n",
       "        text-align: right;\n",
       "    }\n",
       "</style>\n",
       "<table border=\"1\" class=\"dataframe\">\n",
       "  <thead>\n",
       "    <tr style=\"text-align: right;\">\n",
       "      <th></th>\n",
       "      <th>Observed Values</th>\n",
       "      <th>East</th>\n",
       "      <th>West</th>\n",
       "      <th>North</th>\n",
       "      <th>South</th>\n",
       "    </tr>\n",
       "  </thead>\n",
       "  <tbody>\n",
       "    <tr>\n",
       "      <th>0</th>\n",
       "      <td>Males</td>\n",
       "      <td>50</td>\n",
       "      <td>142</td>\n",
       "      <td>131</td>\n",
       "      <td>70</td>\n",
       "    </tr>\n",
       "    <tr>\n",
       "      <th>1</th>\n",
       "      <td>Females</td>\n",
       "      <td>435</td>\n",
       "      <td>1523</td>\n",
       "      <td>1356</td>\n",
       "      <td>750</td>\n",
       "    </tr>\n",
       "  </tbody>\n",
       "</table>\n",
       "</div>"
      ],
      "text/plain": [
       "  Observed Values  East  West  North  South\n",
       "0           Males    50   142    131     70\n",
       "1         Females   435  1523   1356    750"
      ]
     },
     "execution_count": 21,
     "metadata": {},
     "output_type": "execute_result"
    }
   ],
   "source": [
    "buyer_ratio_data = pd.read_csv(r'/home/suraj/Downloads/Assignments/Assignment-3/BuyerRatio.csv')\n",
    "buyer_ratio_data"
   ]
  },
  {
   "cell_type": "code",
   "execution_count": 42,
   "id": "ea68b46f",
   "metadata": {},
   "outputs": [
    {
     "data": {
      "text/plain": [
       "array([[50, 142, 131, 70],\n",
       "       [435, 1523, 1356, 750]], dtype=object)"
      ]
     },
     "execution_count": 42,
     "metadata": {},
     "output_type": "execute_result"
    }
   ],
   "source": [
    "Males_vs_Females = np.array([buyer_ratio_data.iloc[0,1:],buyer_ratio_data.iloc[1,1:]])\n",
    "Males_vs_Females"
   ]
  },
  {
   "cell_type": "markdown",
   "id": "327e18a8",
   "metadata": {},
   "source": [
    "### As the data is related to each other we use paired T test"
   ]
  },
  {
   "cell_type": "code",
   "execution_count": 44,
   "id": "d4290855",
   "metadata": {},
   "outputs": [
    {
     "data": {
      "text/plain": [
       "(1.595945538661058,\n",
       " 0.6603094907091882,\n",
       " 3,\n",
       " array([[  42.76531299,  146.81287862,  131.11756787,   72.30424052],\n",
       "        [ 442.23468701, 1518.18712138, 1355.88243213,  747.69575948]]))"
      ]
     },
     "execution_count": 44,
     "metadata": {},
     "output_type": "execute_result"
    }
   ],
   "source": [
    "T_test = stats.chi2_contingency(Males_vs_Females)\n",
    "T_test"
   ]
  },
  {
   "cell_type": "code",
   "execution_count": 45,
   "id": "5002513d",
   "metadata": {},
   "outputs": [],
   "source": [
    "chi2,P_val,dof,expected = T_test"
   ]
  },
  {
   "cell_type": "code",
   "execution_count": 51,
   "id": "1873f1b2",
   "metadata": {},
   "outputs": [
    {
     "name": "stdout",
     "output_type": "stream",
     "text": [
      "We do not reject null hypothesis : Not all proportions are equal\n"
     ]
    }
   ],
   "source": [
    "if P_val < 0.05:\n",
    "    print('We reject null hypothesis :',Ho)\n",
    "else:\n",
    "    print('We do not reject null hypothesis :',Ha)"
   ]
  },
  {
   "cell_type": "code",
   "execution_count": null,
   "id": "ee2d805c",
   "metadata": {},
   "outputs": [],
   "source": []
  }
 ],
 "metadata": {
  "kernelspec": {
   "display_name": "Python 3",
   "language": "python",
   "name": "python3"
  },
  "language_info": {
   "codemirror_mode": {
    "name": "ipython",
    "version": 3
   },
   "file_extension": ".py",
   "mimetype": "text/x-python",
   "name": "python",
   "nbconvert_exporter": "python",
   "pygments_lexer": "ipython3",
   "version": "3.8.8"
  }
 },
 "nbformat": 4,
 "nbformat_minor": 5
}
